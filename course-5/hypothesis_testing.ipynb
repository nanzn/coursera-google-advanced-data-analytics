{
 "cells": [
  {
   "cell_type": "markdown",
   "metadata": {},
   "source": [
    "# Chi-Squared Test\n",
    "\n",
    "Determine if two categorical variables are associated with one another and whether a categorical variable follows an expected distribution"
   ]
  },
  {
   "cell_type": "code",
   "execution_count": 16,
   "metadata": {},
   "outputs": [],
   "source": [
    "import numpy as np\n",
    "import scipy.stats as stats"
   ]
  },
  {
   "cell_type": "markdown",
   "metadata": {},
   "source": [
    "## Goodness of Fit Test\n",
    "\n",
    "Determine whether an observed categorical variable follows an expected distribution\n",
    "\n",
    "- Null Hypothesis: Follow expected distribution\n",
    "- Alternative Hypothesis: Do not follow expected distribution"
   ]
  },
  {
   "cell_type": "code",
   "execution_count": 2,
   "metadata": {},
   "outputs": [
    {
     "data": {
      "text/plain": [
       "Power_divergenceResult(statistic=97.6, pvalue=7.943886923343835e-19)"
      ]
     },
     "execution_count": 2,
     "metadata": {},
     "output_type": "execute_result"
    }
   ],
   "source": [
    "observations = [650, 570, 420, 480, 510, 380, 490]\n",
    "expectations = [500, 500, 500, 500, 500, 500, 500]\n",
    "result = stats.chisquare(f_obs=observations, f_exp=expectations)\n",
    "result"
   ]
  },
  {
   "cell_type": "markdown",
   "metadata": {},
   "source": [
    "## Chi-Squared Test for Independence\n",
    "\n",
    "Determine if two categorical variables are related to each other"
   ]
  },
  {
   "cell_type": "code",
   "execution_count": 4,
   "metadata": {},
   "outputs": [
    {
     "data": {
      "text/plain": [
       "Chi2ContingencyResult(statistic=13.660757846804358, pvalue=0.00021898310129108426, dof=1, expected_freq=array([[ 798.57142857,  501.42857143],\n",
       "       [1351.42857143,  848.57142857]]))"
      ]
     },
     "execution_count": 4,
     "metadata": {},
     "output_type": "execute_result"
    }
   ],
   "source": [
    "observations = np.array([[850, 450],[1300, 900]])\n",
    "result = stats.contingency.chi2_contingency(observations, correction=False)\n",
    "result"
   ]
  },
  {
   "cell_type": "markdown",
   "metadata": {},
   "source": [
    "# Analysis of Variance (ANOVA)\n",
    "\n",
    "A group of statistical techniques that test the difference of means between three or more groups. "
   ]
  },
  {
   "cell_type": "code",
   "execution_count": 17,
   "metadata": {},
   "outputs": [],
   "source": [
    "import statsmodels.api as sm\n",
    "from statsmodels.formula.api import ols\n",
    "from scipy.stats import f_oneway\n",
    "import seaborn as sns"
   ]
  },
  {
   "cell_type": "markdown",
   "metadata": {},
   "source": [
    "## One Way\n",
    "\n",
    "Compare the means of one continuous dependent variable based on three or more groups of one categorical variable\n",
    "- Null Hypothesis: All groups are equal\n",
    "- Alternative Hypothesis: Not all groups are equal"
   ]
  },
  {
   "cell_type": "code",
   "execution_count": 13,
   "metadata": {},
   "outputs": [
    {
     "data": {
      "text/html": [
       "<div>\n",
       "<style scoped>\n",
       "    .dataframe tbody tr th:only-of-type {\n",
       "        vertical-align: middle;\n",
       "    }\n",
       "\n",
       "    .dataframe tbody tr th {\n",
       "        vertical-align: top;\n",
       "    }\n",
       "\n",
       "    .dataframe thead th {\n",
       "        text-align: right;\n",
       "    }\n",
       "</style>\n",
       "<table border=\"1\" class=\"dataframe\">\n",
       "  <thead>\n",
       "    <tr style=\"text-align: right;\">\n",
       "      <th></th>\n",
       "      <th>sum_sq</th>\n",
       "      <th>df</th>\n",
       "      <th>F</th>\n",
       "      <th>PR(&gt;F)</th>\n",
       "    </tr>\n",
       "  </thead>\n",
       "  <tbody>\n",
       "    <tr>\n",
       "      <th>Intercept</th>\n",
       "      <td>6.807933e+10</td>\n",
       "      <td>1.0</td>\n",
       "      <td>4415.122902</td>\n",
       "      <td>0.0</td>\n",
       "    </tr>\n",
       "    <tr>\n",
       "      <th>C(color)</th>\n",
       "      <td>2.684911e+10</td>\n",
       "      <td>6.0</td>\n",
       "      <td>290.205881</td>\n",
       "      <td>0.0</td>\n",
       "    </tr>\n",
       "    <tr>\n",
       "      <th>Residual</th>\n",
       "      <td>8.316240e+11</td>\n",
       "      <td>53933.0</td>\n",
       "      <td>NaN</td>\n",
       "      <td>NaN</td>\n",
       "    </tr>\n",
       "  </tbody>\n",
       "</table>\n",
       "</div>"
      ],
      "text/plain": [
       "                 sum_sq       df            F  PR(>F)\n",
       "Intercept  6.807933e+10      1.0  4415.122902     0.0\n",
       "C(color)   2.684911e+10      6.0   290.205881     0.0\n",
       "Residual   8.316240e+11  53933.0          NaN     NaN"
      ]
     },
     "execution_count": 13,
     "metadata": {},
     "output_type": "execute_result"
    }
   ],
   "source": [
    "diamonds = sns.load_dataset(\"diamonds\")\n",
    "model = ols(formula = \"price ~ C(color)\", data = diamonds).fit()\n",
    "\n",
    "sm.stats.anova_lm(model, typ = 2)\n",
    "sm.stats.anova_lm(model, typ = 1)\n",
    "sm.stats.anova_lm(model, typ = 3)"
   ]
  },
  {
   "cell_type": "code",
   "execution_count": 12,
   "metadata": {},
   "outputs": [
    {
     "data": {
      "text/plain": [
       "F_onewayResult(statistic=4.625000000000002, pvalue=0.01633645983978022)"
      ]
     },
     "execution_count": 12,
     "metadata": {},
     "output_type": "execute_result"
    }
   ],
   "source": [
    "performance1 = [89, 89, 88, 78, 79]\n",
    "performance2 = [93, 92, 94, 89, 88]\n",
    "performance3 = [89, 88, 89, 93, 90]\n",
    "performance4 = [81, 78, 81, 92, 82]\n",
    "\n",
    "f_oneway(performance1, performance2, performance3, performance4)"
   ]
  },
  {
   "cell_type": "markdown",
   "metadata": {},
   "source": [
    "## Two Way\n",
    "\n",
    "Compare the means of one continuous dependent variable based on three or more groups of two categorical variables\n",
    "\n",
    "C1/C2\n",
    "- Null Hypothesis: No difference\n",
    "- Alternative Hypothesis: Have difference\n",
    "\n",
    "Interaction\n",
    "- Null Hypothesis: C1 and C2 are independent\n",
    "- Alternative Hypothesis: C1 and C2 are not independent"
   ]
  },
  {
   "cell_type": "code",
   "execution_count": 14,
   "metadata": {},
   "outputs": [
    {
     "data": {
      "text/html": [
       "<div>\n",
       "<style scoped>\n",
       "    .dataframe tbody tr th:only-of-type {\n",
       "        vertical-align: middle;\n",
       "    }\n",
       "\n",
       "    .dataframe tbody tr th {\n",
       "        vertical-align: top;\n",
       "    }\n",
       "\n",
       "    .dataframe thead th {\n",
       "        text-align: right;\n",
       "    }\n",
       "</style>\n",
       "<table border=\"1\" class=\"dataframe\">\n",
       "  <thead>\n",
       "    <tr style=\"text-align: right;\">\n",
       "      <th></th>\n",
       "      <th>sum_sq</th>\n",
       "      <th>df</th>\n",
       "      <th>F</th>\n",
       "      <th>PR(&gt;F)</th>\n",
       "    </tr>\n",
       "  </thead>\n",
       "  <tbody>\n",
       "    <tr>\n",
       "      <th>Intercept</th>\n",
       "      <td>1.958900e+10</td>\n",
       "      <td>1.0</td>\n",
       "      <td>1287.312574</td>\n",
       "      <td>1.262195e-278</td>\n",
       "    </tr>\n",
       "    <tr>\n",
       "      <th>C(color)</th>\n",
       "      <td>9.758118e+09</td>\n",
       "      <td>6.0</td>\n",
       "      <td>106.877566</td>\n",
       "      <td>1.888935e-134</td>\n",
       "    </tr>\n",
       "    <tr>\n",
       "      <th>C(cut)</th>\n",
       "      <td>1.548399e+09</td>\n",
       "      <td>4.0</td>\n",
       "      <td>25.438686</td>\n",
       "      <td>4.357543e-21</td>\n",
       "    </tr>\n",
       "    <tr>\n",
       "      <th>C(color):C(cut)</th>\n",
       "      <td>1.653455e+09</td>\n",
       "      <td>24.0</td>\n",
       "      <td>4.527442</td>\n",
       "      <td>1.000780e-12</td>\n",
       "    </tr>\n",
       "    <tr>\n",
       "      <th>Residual</th>\n",
       "      <td>8.202709e+11</td>\n",
       "      <td>53905.0</td>\n",
       "      <td>NaN</td>\n",
       "      <td>NaN</td>\n",
       "    </tr>\n",
       "  </tbody>\n",
       "</table>\n",
       "</div>"
      ],
      "text/plain": [
       "                       sum_sq       df            F         PR(>F)\n",
       "Intercept        1.958900e+10      1.0  1287.312574  1.262195e-278\n",
       "C(color)         9.758118e+09      6.0   106.877566  1.888935e-134\n",
       "C(cut)           1.548399e+09      4.0    25.438686   4.357543e-21\n",
       "C(color):C(cut)  1.653455e+09     24.0     4.527442   1.000780e-12\n",
       "Residual         8.202709e+11  53905.0          NaN            NaN"
      ]
     },
     "execution_count": 14,
     "metadata": {},
     "output_type": "execute_result"
    }
   ],
   "source": [
    "model = ols(formula = \"price ~ C(color) + C(cut) + C(color):C(cut)\", data = diamonds).fit()\n",
    "\n",
    "sm.stats.anova_lm(model, typ = 2)\n",
    "sm.stats.anova_lm(model, typ = 1)\n",
    "sm.stats.anova_lm(model, typ = 3)"
   ]
  },
  {
   "cell_type": "markdown",
   "metadata": {},
   "source": [
    "## Assumptions\n",
    "- The dependent variables for each group come from normal - distributions\n",
    "- The variances across groups are equal\n",
    "- Observations are independent of each other\n"
   ]
  },
  {
   "cell_type": "markdown",
   "metadata": {},
   "source": [
    "# Post Hoc Test\n",
    "Pairwise comparison between all available groups while controlling for the error rate"
   ]
  },
  {
   "cell_type": "markdown",
   "metadata": {},
   "source": [
    "## Tukey's HSD (Honestly Significantly Different) Test"
   ]
  },
  {
   "cell_type": "code",
   "execution_count": 19,
   "metadata": {},
   "outputs": [
    {
     "data": {
      "text/html": [
       "<table class=\"simpletable\">\n",
       "<caption>Multiple Comparison of Means - Tukey HSD, FWER=0.05</caption>\n",
       "<tr>\n",
       "  <th>group1</th> <th>group2</th> <th>meandiff</th>   <th>p-adj</th>   <th>lower</th>     <th>upper</th>   <th>reject</th>\n",
       "</tr>\n",
       "<tr>\n",
       "     <td>D</td>      <td>E</td>   <td>-93.2016</td>  <td>0.7437</td> <td>-276.1437</td>  <td>89.7404</td>   <td>False</td>\n",
       "</tr>\n",
       "<tr>\n",
       "     <td>D</td>      <td>F</td>   <td>554.9323</td>    <td>0.0</td>  <td>370.9936</td>   <td>738.871</td>   <td>True</td> \n",
       "</tr>\n",
       "<tr>\n",
       "     <td>D</td>      <td>G</td>   <td>829.1816</td>    <td>0.0</td>  <td>651.2593</td>  <td>1007.1038</td>  <td>True</td> \n",
       "</tr>\n",
       "<tr>\n",
       "     <td>D</td>      <td>H</td>   <td>1316.7151</td>   <td>0.0</td>  <td>1127.1688</td> <td>1506.2614</td>  <td>True</td> \n",
       "</tr>\n",
       "<tr>\n",
       "     <td>D</td>      <td>I</td>   <td>1921.9209</td>   <td>0.0</td>  <td>1710.9515</td> <td>2132.8902</td>  <td>True</td> \n",
       "</tr>\n",
       "<tr>\n",
       "     <td>D</td>      <td>J</td>   <td>2153.8639</td>   <td>0.0</td>  <td>1894.0127</td> <td>2413.7152</td>  <td>True</td> \n",
       "</tr>\n",
       "<tr>\n",
       "     <td>E</td>      <td>F</td>   <td>648.1339</td>    <td>0.0</td>  <td>481.6095</td>  <td>814.6584</td>   <td>True</td> \n",
       "</tr>\n",
       "<tr>\n",
       "     <td>E</td>      <td>G</td>   <td>922.3832</td>    <td>0.0</td>  <td>762.5293</td>  <td>1082.2371</td>  <td>True</td> \n",
       "</tr>\n",
       "<tr>\n",
       "     <td>E</td>      <td>H</td>   <td>1409.9167</td>   <td>0.0</td>  <td>1237.2183</td> <td>1582.6151</td>  <td>True</td> \n",
       "</tr>\n",
       "<tr>\n",
       "     <td>E</td>      <td>I</td>   <td>2015.1225</td>   <td>0.0</td>  <td>1819.1505</td> <td>2211.0945</td>  <td>True</td> \n",
       "</tr>\n",
       "<tr>\n",
       "     <td>E</td>      <td>J</td>   <td>2247.0655</td>   <td>0.0</td>  <td>1999.2357</td> <td>2494.8954</td>  <td>True</td> \n",
       "</tr>\n",
       "<tr>\n",
       "     <td>F</td>      <td>G</td>   <td>274.2493</td>    <td>0.0</td>  <td>113.2557</td>  <td>435.2428</td>   <td>True</td> \n",
       "</tr>\n",
       "<tr>\n",
       "     <td>F</td>      <td>H</td>   <td>761.7828</td>    <td>0.0</td>   <td>588.029</td>  <td>935.5366</td>   <td>True</td> \n",
       "</tr>\n",
       "<tr>\n",
       "     <td>F</td>      <td>I</td>   <td>1366.9886</td>   <td>0.0</td>  <td>1170.0859</td> <td>1563.8913</td>  <td>True</td> \n",
       "</tr>\n",
       "<tr>\n",
       "     <td>F</td>      <td>J</td>   <td>1598.9316</td>   <td>0.0</td>  <td>1350.3652</td> <td>1847.4981</td>  <td>True</td> \n",
       "</tr>\n",
       "<tr>\n",
       "     <td>G</td>      <td>H</td>   <td>487.5335</td>    <td>0.0</td>  <td>320.1619</td>  <td>654.9052</td>   <td>True</td> \n",
       "</tr>\n",
       "<tr>\n",
       "     <td>G</td>      <td>I</td>   <td>1092.7393</td>   <td>0.0</td>  <td>901.4449</td>  <td>1284.0337</td>  <td>True</td> \n",
       "</tr>\n",
       "<tr>\n",
       "     <td>G</td>      <td>J</td>   <td>1324.6823</td>   <td>0.0</td>  <td>1080.5345</td> <td>1568.8302</td>  <td>True</td> \n",
       "</tr>\n",
       "<tr>\n",
       "     <td>H</td>      <td>I</td>   <td>605.2058</td>    <td>0.0</td>  <td>403.0548</td>  <td>807.3567</td>   <td>True</td> \n",
       "</tr>\n",
       "<tr>\n",
       "     <td>H</td>      <td>J</td>   <td>837.1488</td>    <td>0.0</td>  <td>584.4046</td>  <td>1089.893</td>   <td>True</td> \n",
       "</tr>\n",
       "<tr>\n",
       "     <td>I</td>      <td>J</td>   <td>231.9431</td>  <td>0.1449</td> <td>-37.2407</td>  <td>501.1269</td>   <td>False</td>\n",
       "</tr>\n",
       "</table>"
      ],
      "text/latex": [
       "\\begin{center}\n",
       "\\begin{tabular}{ccccccc}\n",
       "\\toprule\n",
       "\\textbf{group1} & \\textbf{group2} & \\textbf{meandiff} & \\textbf{p-adj} & \\textbf{lower} & \\textbf{upper} & \\textbf{reject}  \\\\\n",
       "\\midrule\n",
       "       D        &        E        &      -93.2016     &     0.7437     &   -276.1437    &    89.7404     &      False       \\\\\n",
       "       D        &        F        &      554.9323     &      0.0       &    370.9936    &    738.871     &       True       \\\\\n",
       "       D        &        G        &      829.1816     &      0.0       &    651.2593    &   1007.1038    &       True       \\\\\n",
       "       D        &        H        &     1316.7151     &      0.0       &   1127.1688    &   1506.2614    &       True       \\\\\n",
       "       D        &        I        &     1921.9209     &      0.0       &   1710.9515    &   2132.8902    &       True       \\\\\n",
       "       D        &        J        &     2153.8639     &      0.0       &   1894.0127    &   2413.7152    &       True       \\\\\n",
       "       E        &        F        &      648.1339     &      0.0       &    481.6095    &    814.6584    &       True       \\\\\n",
       "       E        &        G        &      922.3832     &      0.0       &    762.5293    &   1082.2371    &       True       \\\\\n",
       "       E        &        H        &     1409.9167     &      0.0       &   1237.2183    &   1582.6151    &       True       \\\\\n",
       "       E        &        I        &     2015.1225     &      0.0       &   1819.1505    &   2211.0945    &       True       \\\\\n",
       "       E        &        J        &     2247.0655     &      0.0       &   1999.2357    &   2494.8954    &       True       \\\\\n",
       "       F        &        G        &      274.2493     &      0.0       &    113.2557    &    435.2428    &       True       \\\\\n",
       "       F        &        H        &      761.7828     &      0.0       &    588.029     &    935.5366    &       True       \\\\\n",
       "       F        &        I        &     1366.9886     &      0.0       &   1170.0859    &   1563.8913    &       True       \\\\\n",
       "       F        &        J        &     1598.9316     &      0.0       &   1350.3652    &   1847.4981    &       True       \\\\\n",
       "       G        &        H        &      487.5335     &      0.0       &    320.1619    &    654.9052    &       True       \\\\\n",
       "       G        &        I        &     1092.7393     &      0.0       &    901.4449    &   1284.0337    &       True       \\\\\n",
       "       G        &        J        &     1324.6823     &      0.0       &   1080.5345    &   1568.8302    &       True       \\\\\n",
       "       H        &        I        &      605.2058     &      0.0       &    403.0548    &    807.3567    &       True       \\\\\n",
       "       H        &        J        &      837.1488     &      0.0       &    584.4046    &    1089.893    &       True       \\\\\n",
       "       I        &        J        &      231.9431     &     0.1449     &    -37.2407    &    501.1269    &      False       \\\\\n",
       "\\bottomrule\n",
       "\\end{tabular}\n",
       "%\\caption{Multiple Comparison of Means - Tukey HSD, FWER=0.05}\n",
       "\\end{center}"
      ],
      "text/plain": [
       "<class 'statsmodels.iolib.table.SimpleTable'>"
      ]
     },
     "execution_count": 19,
     "metadata": {},
     "output_type": "execute_result"
    }
   ],
   "source": [
    "from statsmodels.stats.multicomp import pairwise_tukeyhsd\n",
    "\n",
    "tukey_oneway = pairwise_tukeyhsd(endog = diamonds[\"price\"], groups = diamonds[\"color\"], alpha = 0.05)\n",
    "tukey_oneway.summary()"
   ]
  }
 ],
 "metadata": {
  "kernelspec": {
   "display_name": "Python 3",
   "language": "python",
   "name": "python3"
  },
  "language_info": {
   "codemirror_mode": {
    "name": "ipython",
    "version": 3
   },
   "file_extension": ".py",
   "mimetype": "text/x-python",
   "name": "python",
   "nbconvert_exporter": "python",
   "pygments_lexer": "ipython3",
   "version": "3.11.1"
  }
 },
 "nbformat": 4,
 "nbformat_minor": 2
}
